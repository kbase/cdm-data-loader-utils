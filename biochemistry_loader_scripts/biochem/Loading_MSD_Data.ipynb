{
 "cells": [
  {
   "cell_type": "code",
   "execution_count": 10,
   "id": "b53f4ba6-d8c6-4271-b689-2cf5b8d2901c",
   "metadata": {},
   "outputs": [
    {
     "name": "stderr",
     "output_type": "stream",
     "text": [
      "25/01/09 21:49:34 WARN SparkSession: Using an existing Spark session; only runtime SQL configurations will take effect.\n"
     ]
    },
    {
     "name": "stdout",
     "output_type": "stream",
     "text": [
      "Namespace modelseed_biochemistry is ready to use.\n",
      "msd_source/MSD_Compounds.json\n"
     ]
    },
    {
     "name": "stderr",
     "output_type": "stream",
     "text": [
      "25/01/09 21:49:39 WARN TaskSetManager: Stage 95 contains a task of very large size (9133 KiB). The maximum recommended task size is 1000 KiB.\n",
      "                                                                                \r"
     ]
    },
    {
     "name": "stdout",
     "output_type": "stream",
     "text": [
      "msd_source/MSD_Reactions.json\n"
     ]
    },
    {
     "name": "stderr",
     "output_type": "stream",
     "text": [
      "25/01/09 21:49:50 WARN TaskSetManager: Stage 96 contains a task of very large size (6647 KiB). The maximum recommended task size is 1000 KiB.\n",
      "25/01/09 21:49:53 WARN TaskSetManager: Stage 97 contains a task of very large size (16592 KiB). The maximum recommended task size is 1000 KiB.\n",
      "                                                                                \r"
     ]
    }
   ],
   "source": [
    "import json\n",
    "\n",
    "minio_client = get_minio_client()\n",
    "bucket = \"cdm-lake\"\n",
    "prefix = \"msd_source/\"\n",
    "objects = minio_client.list_objects(bucket, prefix, recursive=False)\n",
    "\n",
    "msd_db=\"modelseed_biochemistry\"\n",
    "spark = get_spark_session()\n",
    "create_namespace_if_not_exists(spark, msd_db)\n",
    "\n",
    "delete_keys = ['thermodynamics','notes','linked_compound','is_obsolete', # compounds\n",
    "               'is_core','is_cofactor','comprised_of','class', # compounds\n",
    "               'abstract_compound','aliases', # compounds\n",
    "               'abstract_reaction','code','ec_numbers','pathways', # reactions\n",
    "               'linked_reaction','stoichiometry','definition','equation', # reactions\n",
    "               'compound_ids' # reactions\n",
    "              ]\n",
    "\n",
    "stoichiometries = dict()\n",
    "\n",
    "spark_dataframes = dict()\n",
    "for file_obj in objects:\n",
    "    \n",
    "    if('/MSD_' not in file_obj.object_name):\n",
    "        continue\n",
    "        \n",
    "    print(file_obj.object_name)\n",
    "    \n",
    "    all_entities = list()\n",
    "\n",
    "    #compounds or reactions\n",
    "    msd_type = file_obj.object_name.lower().split('_')[2].split('.')[0]\n",
    "\n",
    "    spark.sql(f\"DROP TABLE IF EXISTS {msd_type}\")\n",
    "    file_resp = minio_client.get_object(bucket,file_obj.object_name)\n",
    "    biochem_entities = file_resp.json()\n",
    "    for entity in biochem_entities:\n",
    "\n",
    "        # UPDATE IDENTIFIERS\n",
    "        if(msd_type == 'reactions'):\n",
    "            entity['id'] = 'seed.reaction:'+entity['id']\n",
    "        if(msd_type == 'compounds'):\n",
    "            entity['id'] = 'seed.compound:'+entity['id']\n",
    "            \n",
    "        for field in delete_keys:\n",
    "\n",
    "            if(msd_type == 'reactions' and field == 'stoichiometry'):\n",
    "                stoichiometries[entity['id']]=entity['stoichiometry']\n",
    "            \n",
    "            if(field in entity):\n",
    "                del(entity[field])\n",
    "\n",
    "        # has to be a list of json strings\n",
    "        all_entities.append(json.dumps(entity))\n",
    "\n",
    "    rdd = spark.sparkContext.parallelize(all_entities)\n",
    "    df = spark.read.json(rdd)\n",
    "    spark_dataframes[msd_type]=df\n",
    "\n",
    "rgt_entities=list()\n",
    "for rxn in stoichiometries:\n",
    "    for rgt in stoichiometries[rxn]:\n",
    "        entity = {'reaction_id':rxn,\n",
    "                  'compound_id':'seed.compound:'+rgt['compound'],\n",
    "                  'compartment_index':rgt['compartment'],\n",
    "                  'stoichiometry':rgt['coefficient']}\n",
    "        rgt_entities.append(json.dumps(entity))\n",
    "rdd=spark.sparkContext.parallelize(rgt_entities)\n",
    "df=spark.read.json(rdd)\n",
    "spark_dataframes['reagents']=df"
   ]
  },
  {
   "cell_type": "code",
   "execution_count": 13,
   "id": "d4cc367d-e4f6-4255-b6ab-ae2fdf1e7950",
   "metadata": {},
   "outputs": [
    {
     "name": "stderr",
     "output_type": "stream",
     "text": [
      "25/01/09 21:52:54 WARN SparkSession: Using an existing Spark session; only runtime SQL configurations will take effect.\n"
     ]
    },
    {
     "data": {
      "text/plain": [
       "DataFrame[]"
      ]
     },
     "execution_count": 13,
     "metadata": {},
     "output_type": "execute_result"
    }
   ],
   "source": [
    "spark = get_spark_session()\n",
    "spark.sql(\"USE modelseed_biochemistry\")\n",
    "spark.sql(\"DROP TABLE IF EXISTS compounds\")\n",
    "spark.sql(\"DROP TABLE IF EXISTS reactions\")\n",
    "spark.sql(\"DROP TABLE IF EXISTS reagents\")"
   ]
  },
  {
   "cell_type": "code",
   "execution_count": 14,
   "id": "86aad6bf-504e-4169-a738-ef49fefc85a2",
   "metadata": {},
   "outputs": [],
   "source": [
    "from pyspark.sql.types import (\n",
    "\tStringType, LongType, DoubleType, BooleanType\n",
    ")\n",
    "from pyspark.sql.functions import col\n",
    "\n",
    "for msd_type in spark_dataframes:\n",
    "    df=spark_dataframes[msd_type]\n",
    "    for field, dtype in df.dtypes:\n",
    "        \n",
    "        if(dtype == 'string'):\n",
    "            df = df.withColumn(field, col(field).cast(StringType()))\n",
    "        elif(dtype == 'double'):\n",
    "            df = df.withColumn(field, col(field).cast(DoubleType()))\n",
    "        elif(dtype == 'bigint' and field == 'is_transport'):\n",
    "            df = df.withColumn(field, col(field).cast(BooleanType()))\n",
    "        elif(dtype == 'bigint'):\n",
    "            df = df.withColumn(field, col(field).cast(LongType()))\n",
    "        else:\n",
    "            print(\"Unsupported field?\",field,dtype)\n"
   ]
  },
  {
   "cell_type": "code",
   "execution_count": 15,
   "id": "adfc0cff-09c9-4633-acd4-ad686d4c10af",
   "metadata": {},
   "outputs": [
    {
     "name": "stderr",
     "output_type": "stream",
     "text": [
      "25/01/09 21:53:09 WARN TaskSetManager: Stage 98 contains a task of very large size (9133 KiB). The maximum recommended task size is 1000 KiB.\n",
      "25/01/09 21:53:16 WARN HiveExternalCatalog: Couldn't find corresponding Hive SerDe for data source provider delta. Persisting data source table `spark_catalog`.`modelseed_biochemistry`.`compounds` into Hive metastore in Spark SQL specific format, which is NOT compatible with Hive.\n",
      "chgrp: changing ownership of 'file:///cdm_shared_workspace/hive_metastore/modelseed_biochemistry.db/compounds-__PLACEHOLDER__': chown: changing group of '/cdm_shared_workspace/hive_metastore/modelseed_biochemistry.db/compounds-__PLACEHOLDER__': Operation not permitted\n"
     ]
    },
    {
     "name": "stdout",
     "output_type": "stream",
     "text": [
      "Spark table modelseed_biochemistry.compounds created.\n"
     ]
    },
    {
     "name": "stderr",
     "output_type": "stream",
     "text": [
      "25/01/09 21:53:17 WARN TaskSetManager: Stage 102 contains a task of very large size (6647 KiB). The maximum recommended task size is 1000 KiB.\n",
      "25/01/09 21:53:20 WARN HiveExternalCatalog: Couldn't find corresponding Hive SerDe for data source provider delta. Persisting data source table `spark_catalog`.`modelseed_biochemistry`.`reactions` into Hive metastore in Spark SQL specific format, which is NOT compatible with Hive.\n",
      "chgrp: changing ownership of 'file:///cdm_shared_workspace/hive_metastore/modelseed_biochemistry.db/reactions-__PLACEHOLDER__': chown: changing group of '/cdm_shared_workspace/hive_metastore/modelseed_biochemistry.db/reactions-__PLACEHOLDER__': Operation not permitted\n"
     ]
    },
    {
     "name": "stdout",
     "output_type": "stream",
     "text": [
      "Spark table modelseed_biochemistry.reactions created.\n"
     ]
    },
    {
     "name": "stderr",
     "output_type": "stream",
     "text": [
      "25/01/09 21:53:21 WARN TaskSetManager: Stage 106 contains a task of very large size (16592 KiB). The maximum recommended task size is 1000 KiB.\n",
      "25/01/09 21:53:24 WARN HiveExternalCatalog: Couldn't find corresponding Hive SerDe for data source provider delta. Persisting data source table `spark_catalog`.`modelseed_biochemistry`.`reagents` into Hive metastore in Spark SQL specific format, which is NOT compatible with Hive.\n",
      "chgrp: changing ownership of 'file:///cdm_shared_workspace/hive_metastore/modelseed_biochemistry.db/reagents-__PLACEHOLDER__': chown: changing group of '/cdm_shared_workspace/hive_metastore/modelseed_biochemistry.db/reagents-__PLACEHOLDER__': Operation not permitted\n"
     ]
    },
    {
     "name": "stdout",
     "output_type": "stream",
     "text": [
      "Spark table modelseed_biochemistry.reagents created.\n"
     ]
    }
   ],
   "source": [
    "for msd_type in spark_dataframes:\n",
    "    spark_table = f\"{msd_db}.{msd_type}\"\n",
    "    delta_file = f\"msd_delta/{msd_type}.delta\"\n",
    "    df = spark_dataframes[msd_type]\n",
    "    df.write.mode(\"overwrite\") \\\n",
    "        .option(\"overwriteSchema\", \"true\") \\\n",
    "    \t.option(\"compression\", \"snappy\") \\\n",
    "    \t.option(\"path\", f\"s3a://{bucket}/{delta_file}\") \\\n",
    "    \t.format(\"delta\") \\\n",
    "    \t.saveAsTable(spark_table)\n",
    "    print(f\"Spark table {spark_table} created.\")"
   ]
  },
  {
   "cell_type": "code",
   "execution_count": 16,
   "id": "5b00d0c8-1030-44d4-a421-e577cc942aee",
   "metadata": {},
   "outputs": [
    {
     "name": "stderr",
     "output_type": "stream",
     "text": [
      "                                                                                \r"
     ]
    },
    {
     "name": "stdout",
     "output_type": "stream",
     "text": [
      "+--------------+\n",
      "|Compound_Count|\n",
      "+--------------+\n",
      "|         45706|\n",
      "+--------------+\n",
      "\n"
     ]
    },
    {
     "name": "stderr",
     "output_type": "stream",
     "text": [
      "                                                                                \r"
     ]
    },
    {
     "name": "stdout",
     "output_type": "stream",
     "text": [
      "+--------------+\n",
      "|Reaction_Count|\n",
      "+--------------+\n",
      "|         56009|\n",
      "+--------------+\n",
      "\n"
     ]
    },
    {
     "name": "stderr",
     "output_type": "stream",
     "text": [
      "[Stage 127:====================================================>  (48 + 2) / 50]\r"
     ]
    },
    {
     "name": "stdout",
     "output_type": "stream",
     "text": [
      "+-------------+\n",
      "|Reagent_Count|\n",
      "+-------------+\n",
      "|       262506|\n",
      "+-------------+\n",
      "\n"
     ]
    },
    {
     "name": "stderr",
     "output_type": "stream",
     "text": [
      "                                                                                \r"
     ]
    }
   ],
   "source": [
    "spark.sql(\"SELECT COUNT(*) AS Compound_Count from compounds\").show()\n",
    "spark.sql(\"SELECT COUNT(*) AS Reaction_Count from reactions\").show()\n",
    "spark.sql(\"SELECT COUNT(*) AS Reagent_Count from reagents\").show()"
   ]
  },
  {
   "cell_type": "code",
   "execution_count": 17,
   "id": "74a24fb9-66f7-40b2-8a0b-dad32ac2f6f7",
   "metadata": {},
   "outputs": [
    {
     "name": "stderr",
     "output_type": "stream",
     "text": [
      "                                                                                \r"
     ]
    },
    {
     "name": "stdout",
     "output_type": "stream",
     "text": [
      "+------------+------+-------+---------+--------------+--------------------+--------------------+-----+---------+--------------------+--------------------+--------------------+----------------+\n",
      "|abbreviation|charge| deltag|deltagerr|       formula|                  id|            inchikey| mass|     name|                 pka|                 pkb|              smiles|          source|\n",
      "+------------+------+-------+---------+--------------+--------------------+--------------------+-----+---------+--------------------+--------------------+--------------------+----------------+\n",
      "|         h2o|     0| -37.54|     0.18|           H2O|seed.compound:cpd...|XLYOFNOQVPJJNP-UH...| 18.0|      H2O|           1:1:15.70|           1:1:-1.80|                   O|Primary Database|\n",
      "|         atp|    -3|-548.85|     0.36| C10H13N5O13P3|seed.compound:cpd...|ZKHQWZAMYRWXGA-KQ...|504.0|      ATP|1:14:12.60;1:22:3...|1:9:-3.03;1:14:-3...|Nc1ncnc2c1ncn2[C@...|Primary Database|\n",
      "|         nad|    -1|-286.41|     1.59| C21H26N7O14P2|seed.compound:cpd...|BAWFJGJZGIEFAR-NN...|662.0|      NAD|1:6:11.94;1:17:1....|1:6:-4.22;1:35:-3...|NC(=O)c1ccc[n+]([...|Primary Database|\n",
      "|        nadh|    -2|-271.15|     1.59| C21H27N7O14P2|seed.compound:cpd...|BOPGDPNILDQYTO-NN...|663.0|     NADH|1:14:12.90;1:18:1...|1:9:-3.03;1:14:-3...|NC(=O)C1=CN([C@@H...|Primary Database|\n",
      "|       nadph|    -4| -483.1|     1.62| C21H26N7O17P3|seed.compound:cpd...|ACFIXJIJDZMPPO-NN...|742.0|    NADPH|1:18:5.72;1:19:0....|1:12:-3.03;1:22:2...|NC(=O)C1=CN([C@@H...|Primary Database|\n",
      "|        nadp|    -3|-498.36|     1.63| C21H25N7O17P3|seed.compound:cpd...|XJLXINKUBYWONI-NN...|741.0|     NADP|1:18:5.72;1:19:0....|1:12:-3.03;1:22:2.51|NC(=O)c1ccc[n+]([...|Primary Database|\n",
      "|          o2|     0|   3.92|     0.71|            O2|seed.compound:cpd...|MYMOFIZGZYHOMD-UH...| 32.0|       O2|                    |                    |                 O=O|Primary Database|\n",
      "|         adp|    -2|-340.04|      0.3| C10H13N5O10P2|seed.compound:cpd...|XTWYTFMLZFPYCI-KQ...|425.0|      ADP|1:14:12.46;1:18:1...|1:9:-3.03;1:14:-3...|Nc1ncnc2c1ncn2[C@...|Primary Database|\n",
      "|          pi|    -2|-252.51|     0.18|          HO4P|seed.compound:cpd...|NBIIXXVUZAFLBC-UH...| 96.0|Phosphate|1:2:12.90;1:3:1.8...|                    |    O=P([O-])([O-])O|Primary Database|\n",
      "|         coa|    -4|-429.53|     1.87|C21H32N7O16P3S|seed.compound:cpd...|RGJOEKWQDUBAIZ-IB...|764.0|      CoA|1:22:0.81;1:23:5....| 1:9:-3.03;1:17:2.53|CC(C)(COP(=O)([O-...|Primary Database|\n",
      "+------------+------+-------+---------+--------------+--------------------+--------------------+-----+---------+--------------------+--------------------+--------------------+----------------+\n",
      "\n"
     ]
    },
    {
     "name": "stderr",
     "output_type": "stream",
     "text": [
      "                                                                                \r"
     ]
    },
    {
     "name": "stdout",
     "output_type": "stream",
     "text": [
      "+------------+------+---------+---------+--------------------+------------+--------------------+-------------+----------------+------+\n",
      "|abbreviation|deltag|deltagerr|direction|                  id|is_transport|                name|reversibility|          source|status|\n",
      "+------------+------+---------+---------+--------------------+------------+--------------------+-------------+----------------+------+\n",
      "|      R00004| -3.46|     0.05|     NULL|seed.reaction:rxn...|           0|diphosphate phosp...|            >|Primary Database|    OK|\n",
      "|      R00005|-20.14|     1.86|     NULL|seed.reaction:rxn...|           0|urea-1-carboxylat...|            >|Primary Database|    OK|\n",
      "|      R00006|  8.27|      0.9|     NULL|seed.reaction:rxn...|           0|pyruvate:pyruvate...|            <|Primary Database|    OK|\n",
      "|      R00008|  4.49|     0.57|     NULL|seed.reaction:rxn...|           0|4-hydroxy-4-methy...|            =|Primary Database|    OK|\n",
      "|      R00009|-46.06|     1.64|     NULL|seed.reaction:rxn...|           0|hydrogen-peroxide...|            >|Primary Database|    OK|\n",
      "|      R00010| -2.79|     0.26|     NULL|seed.reaction:rxn...|           0|alpha,alpha-treha...|            =|Primary Database|    OK|\n",
      "|      R00011| 62.53|      0.8|     NULL|seed.reaction:rxn...|           0|Mn(II):hydrogen-p...|            <|Primary Database|  CI:2|\n",
      "|      R00012|   2.7|     1.52|     NULL|seed.reaction:rxn...|           0|GTP:GTP guanylylt...|            =|Primary Database|    OK|\n",
      "|      R00013| -4.57|     1.08|     NULL|seed.reaction:rxn...|           0|glyoxylate carbox...|            =|Primary Database|    OK|\n",
      "|      R00014|  7.23|     0.84|     NULL|seed.reaction:rxn...|           0|pyruvate:thiamin ...|            <|Primary Database|    OK|\n",
      "+------------+------+---------+---------+--------------------+------------+--------------------+-------------+----------------+------+\n",
      "\n"
     ]
    },
    {
     "name": "stderr",
     "output_type": "stream",
     "text": [
      "                                                                                \r"
     ]
    },
    {
     "name": "stdout",
     "output_type": "stream",
     "text": [
      "+-----------------+--------------------+--------------------+-------------+\n",
      "|compartment_index|         compound_id|         reaction_id|stoichiometry|\n",
      "+-----------------+--------------------+--------------------+-------------+\n",
      "|                0|seed.compound:cpd...|seed.reaction:rxn...|         -1.0|\n",
      "|                0|seed.compound:cpd...|seed.reaction:rxn...|          2.0|\n",
      "|                0|seed.compound:cpd...|seed.reaction:rxn...|         -1.0|\n",
      "|                0|seed.compound:cpd...|seed.reaction:rxn...|          1.0|\n",
      "|                0|seed.compound:cpd...|seed.reaction:rxn...|         -1.0|\n",
      "|                0|seed.compound:cpd...|seed.reaction:rxn...|          2.0|\n",
      "|                0|seed.compound:cpd...|seed.reaction:rxn...|          2.0|\n",
      "|                0|seed.compound:cpd...|seed.reaction:rxn...|         -3.0|\n",
      "|                0|seed.compound:cpd...|seed.reaction:rxn...|         -1.0|\n",
      "|                0|seed.compound:cpd...|seed.reaction:rxn...|         -1.0|\n",
      "+-----------------+--------------------+--------------------+-------------+\n",
      "\n"
     ]
    }
   ],
   "source": [
    "spark.sql(\"SELECT * from compounds ORDER BY id LIMIT 10\").show()\n",
    "spark.sql(\"SELECT * from reactions ORDER BY id LIMIT 10\").show()\n",
    "spark.sql(\"SELECT * from reagents ORDER BY reaction_id,compound_id LIMIT 10\").show()"
   ]
  },
  {
   "cell_type": "code",
   "execution_count": 18,
   "id": "d9287544-24c3-4b59-906b-dba5be575054",
   "metadata": {},
   "outputs": [
    {
     "name": "stderr",
     "output_type": "stream",
     "text": [
      "                                                                                \r"
     ]
    },
    {
     "name": "stdout",
     "output_type": "stream",
     "text": [
      "+--------------------+--------------------+--------------------+--------------------+-----------------+-------------+\n",
      "|                  id|                name|                  id|                name|compartment_index|stoichiometry|\n",
      "+--------------------+--------------------+--------------------+--------------------+-----------------+-------------+\n",
      "|seed.reaction:rxn...|            RXN-2543|seed.compound:cpd...|2,3-dimethyl-6-ph...|                0|         -1.0|\n",
      "|seed.reaction:rxn...|                   -|seed.compound:cpd...|2-Octaprenyl-3-me...|                0|         -1.0|\n",
      "|seed.reaction:rxn...|                   -|seed.compound:cpd...|2-Octaprenyl-3-me...|                1|          1.0|\n",
      "|seed.reaction:rxn...|            RXN-2542|seed.compound:cpd...|2-methyl-6-phytyl...|                0|         -1.0|\n",
      "|seed.reaction:rxn...|            RXN-2542|seed.compound:cpd...|2,3-dimethyl-6-ph...|                0|          1.0|\n",
      "|seed.reaction:rxn...|alcohol dehydroge...|seed.compound:cpd...|PQQ (Pyrroloquino...|                0|         -1.0|\n",
      "|seed.reaction:rxn...|alcohol dehydroge...|seed.compound:cpd...|PQQ (pyrroloquino...|                0|          1.0|\n",
      "|seed.reaction:rxn...|cytochrome b6/f c...|seed.compound:cpd...|       Plastoquinone|                0|          1.0|\n",
      "|seed.reaction:rxn...|ubiquinol-cytochr...|seed.compound:cpd...|        Ubiquinone-8|                1|          1.0|\n",
      "|seed.reaction:rxn...|      photosystem II|seed.compound:cpd...|       Plastoquinone|                0|         -2.0|\n",
      "|seed.reaction:rxn...|Neurosporene oxid...|seed.compound:cpd...|reduced plastoqui...|                0|         -1.0|\n",
      "|seed.reaction:rxn...|Neurosporene oxid...|seed.compound:cpd...|oxidized plastoqu...|                0|          1.0|\n",
      "|seed.reaction:rxn...|phytoene desatura...|seed.compound:cpd...|oxidized plastoqu...|                0|         -1.0|\n",
      "|seed.reaction:rxn...|phytoene desatura...|seed.compound:cpd...|reduced plastoqui...|                0|          1.0|\n",
      "|seed.reaction:rxn...|phytoene desatura...|seed.compound:cpd...|oxidized plastoqu...|                0|         -1.0|\n",
      "|seed.reaction:rxn...|phytoene desatura...|seed.compound:cpd...|reduced plastoqui...|                0|          1.0|\n",
      "|seed.reaction:rxn...|zeta-carotene des...|seed.compound:cpd...|reduced plastoqui...|                0|         -1.0|\n",
      "|seed.reaction:rxn...|zeta-carotene des...|seed.compound:cpd...|oxidized plastoqu...|                0|          1.0|\n",
      "|seed.reaction:rxn...|Electron transfer...|seed.compound:cpd...|        Ubiquinone-8|                0|         -1.0|\n",
      "|seed.reaction:rxn...|alcohol dehydroge...|seed.compound:cpd...|PQQ (Pyrroloquino...|                0|         -1.0|\n",
      "+--------------------+--------------------+--------------------+--------------------+-----------------+-------------+\n",
      "only showing top 20 rows\n",
      "\n"
     ]
    }
   ],
   "source": [
    "spark.sql('SELECT rxn.id,rxn.name,cpd.id,cpd.name,rgt.compartment_index,rgt.stoichiometry \\\n",
    "        FROM compounds AS cpd, reagents AS rgt, reactions AS rxn \\\n",
    "        WHERE LOWER(cpd.name) LIKE \"%quinon%\" \\\n",
    "        AND rgt.compound_id = cpd.id \\\n",
    "        AND rgt.reaction_id = rxn.id').show()"
   ]
  },
  {
   "cell_type": "code",
   "execution_count": 19,
   "id": "176e1a14-9e98-461a-a1ce-dd24cb872f1f",
   "metadata": {},
   "outputs": [
    {
     "name": "stderr",
     "output_type": "stream",
     "text": [
      "[Stage 172:>                                                        (0 + 2) / 2]\r"
     ]
    },
    {
     "name": "stdout",
     "output_type": "stream",
     "text": [
      "+--------------+\n",
      "|Reaction_Count|\n",
      "+--------------+\n",
      "|          1317|\n",
      "+--------------+\n",
      "\n"
     ]
    },
    {
     "name": "stderr",
     "output_type": "stream",
     "text": [
      "                                                                                \r"
     ]
    }
   ],
   "source": [
    "spark.sql('SELECT COUNT(DISTINCT(rxn.id)) AS Reaction_Count \\\n",
    "        FROM compounds AS cpd, reagents AS rgt, reactions AS rxn \\\n",
    "        WHERE LOWER(cpd.name) LIKE \"%quinon%\" \\\n",
    "        AND rgt.compound_id = cpd.id \\\n",
    "        AND rgt.reaction_id = rxn.id').show()"
   ]
  },
  {
   "cell_type": "code",
   "execution_count": null,
   "id": "4759b134-4efd-42b0-bd37-87befc73c18e",
   "metadata": {},
   "outputs": [],
   "source": []
  }
 ],
 "metadata": {
  "kernelspec": {
   "display_name": "Python 3 (ipykernel)",
   "language": "python",
   "name": "python3"
  },
  "language_info": {
   "codemirror_mode": {
    "name": "ipython",
    "version": 3
   },
   "file_extension": ".py",
   "mimetype": "text/x-python",
   "name": "python",
   "nbconvert_exporter": "python",
   "pygments_lexer": "ipython3",
   "version": "3.11.9"
  }
 },
 "nbformat": 4,
 "nbformat_minor": 5
}
